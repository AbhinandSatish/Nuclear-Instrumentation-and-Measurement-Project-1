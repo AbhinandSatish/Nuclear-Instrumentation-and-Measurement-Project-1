{
 "cells": [
  {
   "cell_type": "markdown",
   "metadata": {},
   "source": [
    "Abhinand Satish - Nuclear Instrumentation and measurement Project 1"
   ]
  },
  {
   "cell_type": "code",
   "execution_count": 40,
   "metadata": {},
   "outputs": [
    {
     "name": "stdout",
     "output_type": "stream",
     "text": [
      "Defaulting to user installation because normal site-packages is not writeable\n",
      "Collecting beautifulsoup4\n",
      "  Downloading beautifulsoup4-4.13.3-py3-none-any.whl (186 kB)\n",
      "\u001b[K     |████████████████████████████████| 186 kB 6.8 MB/s eta 0:00:01\n",
      "\u001b[?25hRequirement already satisfied: requests in /Users/abhinandsatish/Library/Python/3.9/lib/python/site-packages (2.32.3)\n",
      "Requirement already satisfied: pandas in /Users/abhinandsatish/Library/Python/3.9/lib/python/site-packages (2.2.2)\n",
      "Requirement already satisfied: numpy in /Users/abhinandsatish/Library/Python/3.9/lib/python/site-packages (2.0.0)\n",
      "Requirement already satisfied: typing-extensions>=4.0.0 in /Users/abhinandsatish/Library/Python/3.9/lib/python/site-packages (from beautifulsoup4) (4.12.2)\n",
      "Collecting soupsieve>1.2\n",
      "  Downloading soupsieve-2.6-py3-none-any.whl (36 kB)\n",
      "Requirement already satisfied: urllib3<3,>=1.21.1 in /Users/abhinandsatish/Library/Python/3.9/lib/python/site-packages (from requests) (2.2.1)\n",
      "Requirement already satisfied: idna<4,>=2.5 in /Users/abhinandsatish/Library/Python/3.9/lib/python/site-packages (from requests) (3.7)\n",
      "Requirement already satisfied: charset-normalizer<4,>=2 in /Users/abhinandsatish/Library/Python/3.9/lib/python/site-packages (from requests) (3.3.2)\n",
      "Requirement already satisfied: certifi>=2017.4.17 in /Users/abhinandsatish/Library/Python/3.9/lib/python/site-packages (from requests) (2024.6.2)\n",
      "Requirement already satisfied: python-dateutil>=2.8.2 in /Users/abhinandsatish/Library/Python/3.9/lib/python/site-packages (from pandas) (2.9.0.post0)\n",
      "Requirement already satisfied: pytz>=2020.1 in /Users/abhinandsatish/Library/Python/3.9/lib/python/site-packages (from pandas) (2024.1)\n",
      "Requirement already satisfied: tzdata>=2022.7 in /Users/abhinandsatish/Library/Python/3.9/lib/python/site-packages (from pandas) (2024.1)\n",
      "Requirement already satisfied: six>=1.5 in /Library/Developer/CommandLineTools/Library/Frameworks/Python3.framework/Versions/3.9/lib/python3.9/site-packages (from python-dateutil>=2.8.2->pandas) (1.15.0)\n",
      "Installing collected packages: soupsieve, beautifulsoup4\n",
      "Successfully installed beautifulsoup4-4.13.3 soupsieve-2.6\n",
      "\u001b[33mWARNING: You are using pip version 21.2.4; however, version 25.0.1 is available.\n",
      "You should consider upgrading via the '/Library/Developer/CommandLineTools/usr/bin/python3 -m pip install --upgrade pip' command.\u001b[0m\n",
      "Note: you may need to restart the kernel to use updated packages.\n"
     ]
    }
   ],
   "source": [
    "%pip install beautifulsoup4 requests pandas numpy\n"
   ]
  },
  {
   "cell_type": "code",
   "execution_count": 20,
   "metadata": {},
   "outputs": [],
   "source": [
    "\n",
    "import matplotlib.pyplot as plt\n",
    "import os\n",
    "import sys\n",
    "import csv"
   ]
  },
  {
   "cell_type": "code",
   "execution_count": 33,
   "metadata": {},
   "outputs": [],
   "source": [
    "#Load print the text file /Users/abhinandsatish/Documents/2025/Spring/NIM/7314376.txt\n",
    "\n",
    "path, dirs, files = next(os.walk(\"./\"))   # 'This Folder'\n",
    "file_count = len(files)\n",
    "### Reading input\n",
    "Data_store = [[],[]]\n",
    "with open(\"7314376.txt\") as f:\n",
    "    lines = f.readlines()\n",
    "    for line in lines[0:2]:\n",
    "        Data_store[0].append(str(line.split()[0]))\n",
    "        Data_store[1].append(str(line.split()[1]))\n",
    "    for line in lines[2:]:\n",
    "        Data_store[0].append(float(line.split()[0]))\n",
    "        Data_store[1].append(float(line.split()[1]))\n",
    "    f.close()\n",
    "    \n",
    "#create a downlodable csv file\n",
    "with open('7314376.csv', mode='w') as file:\n",
    "    writer = csv.writer(file)\n",
    "    writer.writerow(['x', 'y'])\n",
    "    for i in range(len(Data_store[0])):\n",
    "        writer.writerow([Data_store[0][i],Data_store[1][i]])\n",
    "    file.close()\n",
    "    \n"
   ]
  },
  {
   "cell_type": "code",
   "execution_count": 37,
   "metadata": {},
   "outputs": [
    {
     "data": {
      "text/plain": [
       "Text(0, 0.5, 'Emission intensity_[%]')"
      ]
     },
     "execution_count": 37,
     "metadata": {},
     "output_type": "execute_result"
    },
    {
     "data": {
      "image/png": "[encoded data removed]",
      "text/plain": [
       "<Figure size 640x480 with 1 Axes>"
      ]
     },
     "metadata": {},
     "output_type": "display_data"
    }
   ],
   "source": [
    "#plot the csv file, the first two lines are the title and the x and y axis\n",
    "plt.plot(Data_store[0][2:],Data_store[1][2:])\n",
    "#label the x and y axis\n",
    "plt.xlabel(Data_store[0][0]+\" \"+Data_store[0][1])\n",
    "plt.ylabel(Data_store[1][0]+\" \"+Data_store[1][1])\n"
   ]
  },
  {
   "cell_type": "markdown",
   "metadata": {},
   "source": [
    "ASSUMPTIONS:\n",
    "1. The radioisotope is a point source.\n",
    "2. The intrinsic detection efficiency is 1.\n",
    "3. The detector is fast enough such that no counts are lost due to deadtime.\n",
    "4. The detector is a 3” diameter cylindrical detector that is facing the point source.\n",
    "5. We will assume that we have good geometry due to a series of collimators installed\n",
    "in our experimental facility (ignore buildup factors).\n",
    "6. The source has an activity of 1 Ci, and the rate of activity change is negligible over the\n",
    "course of the experiment.\n",
    "\n",
    "\n",
    "\n",
    "\n",
    "**$I = I_0 e^{-\\mu x}$**\n",
    "Linear Attenuation coefficient  = **$\\mu = \\left(\\frac{\\mu}{\\rho}\\right) \\times \\text{density}$**\n",
    "where **$\\left(\\frac{\\mu}{\\rho}\\right)$** is the mass attenutation which I would derive from the NIST database\n",
    "\n",
    "The density for Led and Aluminium is:\n",
    "\n",
    "Lead (Pb) = 11.34 g/cm^3\n",
    "\n",
    "Aluminium(Al) = 2.7g/cm^3"
   ]
  },
  {
   "cell_type": "code",
   "execution_count": null,
   "metadata": {},
   "outputs": [],
   "source": []
  }
 ],
 "metadata": {
  "kernelspec": {
   "display_name": "Python 3",
   "language": "python",
   "name": "python3"
  },
  "language_info": {
   "codemirror_mode": {
    "name": "ipython",
    "version": 3
   },
   "file_extension": ".py",
   "mimetype": "text/x-python",
   "name": "python",
   "nbconvert_exporter": "python",
   "pygments_lexer": "ipython3",
   "version": "3.9.6"
  }
 },
 "nbformat": 4,
 "nbformat_minor": 2
}
